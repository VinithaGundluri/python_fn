{
 "cells": [
  {
   "cell_type": "code",
   "execution_count": 2,
   "id": "2a842c70",
   "metadata": {},
   "outputs": [],
   "source": [
    "#ADVANCED PYTHON"
   ]
  },
  {
   "cell_type": "code",
   "execution_count": 4,
   "id": "c6c6961f",
   "metadata": {},
   "outputs": [],
   "source": [
    "#Creating numpy arrays"
   ]
  },
  {
   "cell_type": "code",
   "execution_count": 7,
   "id": "665f8720",
   "metadata": {},
   "outputs": [],
   "source": [
    " overview:  numpy is a numerical computation libraries is used for all the numerical calculations and \n",
    " also for the scientific computation it stands as a foundational library to all remaining library\n",
    " data types of numpy:numpy is having a data type called as ndarry\n",
    "        overview of ndarry ===> num of dimensions array"
   ]
  },
  {
   "cell_type": "code",
   "execution_count": 8,
   "id": "742fdcd1",
   "metadata": {},
   "outputs": [],
   "source": [
    "understanding array is similar like list"
   ]
  },
  {
   "cell_type": "code",
   "execution_count": null,
   "id": "83eb9a8b",
   "metadata": {},
   "outputs": [],
   "source": [
    "interview question:what is the difference between array and list if given choice which one you prefer\n",
    "ans:array ---->becz of its internal implementation and working is very efficient in an array comparing to list"
   ]
  },
  {
   "cell_type": "code",
   "execution_count": 9,
   "id": "a8f012bb",
   "metadata": {},
   "outputs": [],
   "source": [
    "#How to install array"
   ]
  },
  {
   "cell_type": "code",
   "execution_count": 13,
   "id": "99994a3c",
   "metadata": {},
   "outputs": [
    {
     "name": "stderr",
     "output_type": "stream",
     "text": [
      "'pop' is not recognized as an internal or external command,\n",
      "operable program or batch file.\n"
     ]
    }
   ],
   "source": [
    "! pop install numpy"
   ]
  },
  {
   "cell_type": "code",
   "execution_count": 16,
   "id": "4fbfaee6",
   "metadata": {},
   "outputs": [],
   "source": [
    "import numpy as np"
   ]
  },
  {
   "cell_type": "code",
   "execution_count": null,
   "id": "1a1a6be2",
   "metadata": {},
   "outputs": [],
   "source": [
    "1.creating an array from regular python list or tuple using an array function"
   ]
  },
  {
   "cell_type": "raw",
   "id": "1e6d57e7",
   "metadata": {},
   "source": []
  },
  {
   "cell_type": "code",
   "execution_count": 19,
   "id": "56419131",
   "metadata": {},
   "outputs": [
    {
     "data": {
      "text/plain": [
       "array([1, 2, 3, 4])"
      ]
     },
     "execution_count": 19,
     "metadata": {},
     "output_type": "execute_result"
    }
   ],
   "source": [
    "array_one=np.array([1,2,3,4])\n",
    "array_one"
   ]
  },
  {
   "cell_type": "code",
   "execution_count": 22,
   "id": "e04d89f3",
   "metadata": {},
   "outputs": [
    {
     "data": {
      "text/plain": [
       "array([2, 3, 4, 5])"
      ]
     },
     "execution_count": 22,
     "metadata": {},
     "output_type": "execute_result"
    }
   ],
   "source": [
    "numbers=[2,3,4,5]\n",
    "array_two=np.array(numbers)\n",
    "array_two"
   ]
  },
  {
   "cell_type": "code",
   "execution_count": null,
   "id": "25ce2740",
   "metadata": {},
   "outputs": [],
   "source": [
    "#how to confirm and validate datatype"
   ]
  },
  {
   "cell_type": "code",
   "execution_count": 23,
   "id": "3e3a0487",
   "metadata": {},
   "outputs": [
    {
     "data": {
      "text/plain": [
       "numpy.ndarray"
      ]
     },
     "execution_count": 23,
     "metadata": {},
     "output_type": "execute_result"
    }
   ],
   "source": [
    "type(array_two)"
   ]
  },
  {
   "cell_type": "code",
   "execution_count": null,
   "id": "0e0c858d",
   "metadata": {},
   "outputs": [],
   "source": [
    "2.Numpy offers several functions to create arrays with initial place holder content "
   ]
  },
  {
   "cell_type": "code",
   "execution_count": null,
   "id": "30e927de",
   "metadata": {},
   "outputs": [],
   "source": [
    "Req:create an array of zeroes with desired shape(x,y)\n",
    "    x--->rows\n",
    "    y--->column"
   ]
  },
  {
   "cell_type": "code",
   "execution_count": 25,
   "id": "3e2b1863",
   "metadata": {},
   "outputs": [
    {
     "data": {
      "text/plain": [
       "array([[0., 0., 0., 0.],\n",
       "       [0., 0., 0., 0.],\n",
       "       [0., 0., 0., 0.]])"
      ]
     },
     "execution_count": 25,
     "metadata": {},
     "output_type": "execute_result"
    }
   ],
   "source": [
    "array_of_zeroes = np.zeros((3,4))\n",
    "array_of_zeroes"
   ]
  },
  {
   "cell_type": "code",
   "execution_count": 31,
   "id": "16e7b1c7",
   "metadata": {},
   "outputs": [
    {
     "data": {
      "text/plain": [
       "array([[1., 1., 1., 1.],\n",
       "       [1., 1., 1., 1.],\n",
       "       [1., 1., 1., 1.]])"
      ]
     },
     "execution_count": 31,
     "metadata": {},
     "output_type": "execute_result"
    }
   ],
   "source": [
    "array_of_ones = np.ones((3,4))\n",
    "array_of_ones"
   ]
  },
  {
   "cell_type": "code",
   "execution_count": null,
   "id": "f6c7a0d3",
   "metadata": {},
   "outputs": [],
   "source": [
    "#use datatype in order to specify the data type like int16,int32,int64"
   ]
  },
  {
   "cell_type": "code",
   "execution_count": 33,
   "id": "02eca3c4",
   "metadata": {},
   "outputs": [
    {
     "data": {
      "text/plain": [
       "array([[1, 1, 1, 1],\n",
       "       [1, 1, 1, 1],\n",
       "       [1, 1, 1, 1]], dtype=int16)"
      ]
     },
     "execution_count": 33,
     "metadata": {},
     "output_type": "execute_result"
    }
   ],
   "source": [
    "array_of_ones_int = np.ones((3,4),dtype=np.int16)\n",
    "array_of_ones_int"
   ]
  },
  {
   "cell_type": "code",
   "execution_count": null,
   "id": "b7005af9",
   "metadata": {},
   "outputs": [],
   "source": [
    "#to create an eyedentity matrix we use np.eye()\n",
    "identity matrix= [1 0 0]\n",
    "                 [0 1 0]\n",
    "                 [0 0 1]"
   ]
  },
  {
   "cell_type": "code",
   "execution_count": 35,
   "id": "efca3f95",
   "metadata": {},
   "outputs": [
    {
     "data": {
      "text/plain": [
       "array([[1., 0., 0.],\n",
       "       [0., 1., 0.],\n",
       "       [0., 0., 1.]])"
      ]
     },
     "execution_count": 35,
     "metadata": {},
     "output_type": "execute_result"
    }
   ],
   "source": [
    "array_eye=np.eye(3)\n",
    "array_eye"
   ]
  },
  {
   "cell_type": "code",
   "execution_count": null,
   "id": "40f31981",
   "metadata": {},
   "outputs": [],
   "source": [
    "3.To create sequence of num ,numpy provides a function analogous to range that return arrays instead of lists\n",
    "syntax:\n",
    "    arange(start,step,dtype)"
   ]
  },
  {
   "cell_type": "code",
   "execution_count": 38,
   "id": "b9ab904c",
   "metadata": {},
   "outputs": [
    {
     "data": {
      "text/plain": [
       "array([ 2,  4,  6,  8, 10, 12, 14, 16, 18])"
      ]
     },
     "execution_count": 38,
     "metadata": {},
     "output_type": "execute_result"
    }
   ],
   "source": [
    "array_of_evens=np.arange(2,20,2)\n",
    "array_of_evens"
   ]
  },
  {
   "cell_type": "code",
   "execution_count": null,
   "id": "d1946d7b",
   "metadata": {},
   "outputs": [],
   "source": [
    "Note:Last value is always excusive"
   ]
  }
 ],
 "metadata": {
  "kernelspec": {
   "display_name": "Python 3",
   "language": "python",
   "name": "python3"
  },
  "language_info": {
   "codemirror_mode": {
    "name": "ipython",
    "version": 3
   },
   "file_extension": ".py",
   "mimetype": "text/x-python",
   "name": "python",
   "nbconvert_exporter": "python",
   "pygments_lexer": "ipython3",
   "version": "3.8.8"
  }
 },
 "nbformat": 4,
 "nbformat_minor": 5
}
